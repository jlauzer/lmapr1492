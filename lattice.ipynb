{
 "cells": [
  {
   "cell_type": "markdown",
   "metadata": {},
   "source": [
    "Auteur : Jimmy Lauzer \n",
    "\n",
    "Tâche 5 \n",
    "\n",
    "Ce notebook permet de télécharger le fichier CIF du matériau qui m'a été attribué et de déterminer différents éléments. A savoir les vecteurs de base de ses réseaux directs et réciproques, son type de maille, son système cristallin, ainsi que son groupe ponctuel. "
   ]
  },
  {
   "cell_type": "code",
   "execution_count": 9,
   "metadata": {},
   "outputs": [
    {
     "name": "stdout",
     "output_type": "stream",
     "text": [
      "les vecteurs des réseaux directs sont :\n",
      "-2.005611 -3.473820 0.000000\n",
      "-4.011221 0.000000 0.000000\n",
      "-2.005611 -1.157940 -5.263221\n",
      "les vecteurs des réseaux réciproques sont :\n",
      "-0.000000 -1.808725 0.397930\n",
      "-1.566402 0.904363 0.397930\n",
      "-0.000000 -0.000000 -1.193791\n",
      "le type de maille est :\n",
      "Full Formula (Ca1 Ge2)\n",
      "Reduced Formula: CaGe2\n",
      "abc   :   4.011222   4.011222   5.750199\n",
      "angles:  69.586689  69.586689  60.000000\n",
      "Sites (3)\n",
      "  #  SP           a         b         c\n",
      "---  ----  --------  --------  --------\n",
      "  0  Ca    0         0         0\n",
      "  1  Ge    0.797952  0.797952  0.606145\n",
      "  2  Ge    0.202048  0.202048  0.393855\n",
      "le système cristallin est :\n",
      "trigonal\n",
      "le groupe ponctuel est :\n",
      "-3m\n"
     ]
    }
   ],
   "source": [
    "from pymatgen.io.cif import CifWriter #différents import nécessaires\n",
    "from pymatgen.core.lattice import Lattice\n",
    "from pymatgen.symmetry.analyzer import SpacegroupAnalyzer\n",
    "from pymatgen.ext.matproj import MPRester\n",
    "with MPRester(\"ZsX7S4MaIQIVbxyXjs\") as m :\n",
    "    struct = m.get_structure_by_material_id(\"mp-567456\") #récuperation de la structure\n",
    "    newCifFile = CifWriter(struct) #création du fichier cif et écriture dans le fichier\n",
    "    newCifFile.write_file('structure_mp567456.cif')\n",
    "\n",
    "vector_dir=struct.lattice #vecteurs du réseau direct\n",
    "print('les vecteurs des réseaux directs sont :')\n",
    "print(vector_dir)\n",
    "\n",
    "vector_rec=struct.lattice.reciprocal_lattice #vecteurs du reseau reciproque\n",
    "print('les vecteurs des réseaux réciproques sont :')\n",
    "print(vector_rec)\n",
    "\n",
    "sga=SpacegroupAnalyzer(struct) #création de la classe SpacegroupAnalyzer permettant de récupérer des données\n",
    "\n",
    "primitive_cell=sga.find_primitive() #le type de maille\n",
    "print('le type de maille est :')\n",
    "print(primitive_cell)\n",
    "\n",
    "crystal_syst=sga.get_crystal_system() #le système cristallin\n",
    "print('le système cristallin est :')\n",
    "print(crystal_syst)\n",
    "\n",
    "point_group=sga.get_point_group_symbol() #le groupe ponctuel\n",
    "print('le groupe ponctuel est :')\n",
    "print(point_group)"
   ]
  },
  {
   "cell_type": "code",
   "execution_count": null,
   "metadata": {},
   "outputs": [],
   "source": []
  }
 ],
 "metadata": {
  "kernelspec": {
   "display_name": "Python 3",
   "language": "python",
   "name": "python3"
  },
  "language_info": {
   "codemirror_mode": {
    "name": "ipython",
    "version": 3
   },
   "file_extension": ".py",
   "mimetype": "text/x-python",
   "name": "python",
   "nbconvert_exporter": "python",
   "pygments_lexer": "ipython3",
   "version": "3.6.8"
  }
 },
 "nbformat": 4,
 "nbformat_minor": 2
}
