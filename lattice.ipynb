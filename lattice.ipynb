{
 "cells": [
  {
   "cell_type": "markdown",
   "metadata": {},
   "source": [
    "Auteur : Jimmy Lauzer \n",
    "\n",
    "Tâche 5 \n",
    "\n",
    "Ce notebook permet de télécharger le fichier CIF du matériau qui m'a été attribué (CaGe2) et de déterminer différents éléments. A savoir les vecteurs de base de ses réseaux directs et réciproques, son type de maille, son système cristallin, ainsi que son groupe ponctuel. "
   ]
  },
  {
   "cell_type": "code",
   "execution_count": 17,
   "metadata": {},
   "outputs": [
    {
     "name": "stdout",
     "output_type": "stream",
     "text": [
      "les vecteurs des réseaux directs sont :\n",
      "5.389092 -2.005611 0.000000\n",
      "5.389092 2.005611 0.000000\n",
      "4.642682 0.000000 3.392683\n",
      "les vecteurs des réseaux réciproques sont :\n",
      "0.582954 -1.566402 -0.797737\n",
      "0.582954 1.566402 -0.797737\n",
      "0.000000 0.000000 1.851981\n",
      "le type de maille est :\n",
      "rhombohedral\n",
      "le système cristallin est :\n",
      "trigonal\n",
      "le groupe ponctuel est :\n",
      "-3m\n"
     ]
    }
   ],
   "source": [
    "from pymatgen.io.cif import CifWriter #différents import nécessaires\n",
    "from pymatgen.core.lattice import Lattice\n",
    "from pymatgen.symmetry.analyzer import SpacegroupAnalyzer\n",
    "from pymatgen.ext.matproj import MPRester\n",
    "with MPRester(\"ZsX7S4MaIQIVbxyXjs\") as m :\n",
    "    struct = m.get_structure_by_material_id(\"mp-567456\") #récuperation de la structure\n",
    "    newCifFile = CifWriter(struct) #création du fichier cif et écriture dans le fichier\n",
    "    newCifFile.write_file('structure_mp567456.cif')\n",
    "\n",
    "sga=SpacegroupAnalyzer(struct) #création de la classe SpacegroupAnalyzer permettant de récupérer des données\n",
    "new_s=SpacegroupAnalyzer(struct).get_primitive_standard_structure()\n",
    "    \n",
    "vector_dir=new_s.lattice #vecteurs du réseau direct\n",
    "print('les vecteurs des réseaux directs sont :')\n",
    "print(vector_dir)\n",
    "\n",
    "vector_rec=new_s.lattice.reciprocal_lattice #vecteurs du reseau reciproque\n",
    "print('les vecteurs des réseaux réciproques sont :')\n",
    "print(vector_rec)\n",
    "\n",
    "lattice_type=sga.get_lattice_type() #le type de maille\n",
    "print('le type de maille est :')\n",
    "print(lattice_type)\n",
    "\n",
    "crystal_syst=sga.get_crystal_system() #le système cristallin\n",
    "print('le système cristallin est :')\n",
    "print(crystal_syst)\n",
    "\n",
    "point_group=sga.get_point_group_symbol() #le groupe ponctuel\n",
    "print('le groupe ponctuel est :')\n",
    "print(point_group)"
   ]
  },
  {
   "cell_type": "code",
   "execution_count": null,
   "metadata": {},
   "outputs": [],
   "source": []
  }
 ],
 "metadata": {
  "kernelspec": {
   "display_name": "Python 3",
   "language": "python",
   "name": "python3"
  },
  "language_info": {
   "codemirror_mode": {
    "name": "ipython",
    "version": 3
   },
   "file_extension": ".py",
   "mimetype": "text/x-python",
   "name": "python",
   "nbconvert_exporter": "python",
   "pygments_lexer": "ipython3",
   "version": "3.6.8"
  }
 },
 "nbformat": 4,
 "nbformat_minor": 2
}
