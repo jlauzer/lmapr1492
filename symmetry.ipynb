{
 "cells": [
  {
   "cell_type": "markdown",
   "metadata": {},
   "source": [
    "Auteur : Jimmy Lauzer\n",
    "\n",
    "Tâche 6\n",
    "\n",
    "Ce notebook permet de télécharger le fichier CIF du matériau qui m'a été attribué et d'illustrer (à l'aide de systèmes d'équations et de représentations spatiales) 3 éléments de symétrie différents pour un atome différent à chaque fois. A savoir la translation, la réflexion par rapport à un plan miroir et la rotation d'ordre 3. \n"
   ]
  },
  {
   "cell_type": "code",
   "execution_count": 16,
   "metadata": {
    "scrolled": true
   },
   "outputs": [
    {
     "name": "stdout",
     "output_type": "stream",
     "text": [
      "Voici la maille conventionelle du matériau CaGe2 faisant apparaitre toutes les symétries. Les atomes de calcium sont en vert clair et ceux de germanium en vert foncé.\n"
     ]
    }
   ],
   "source": [
    "from pymatgen.io.cif import CifWriter #différents import nécessaires\n",
    "from pymatgen.ext.matproj import MPRester\n",
    "from pymatgen.core.operations import SymmOp\n",
    "from IPython.display import Markdown, display\n",
    "with MPRester(\"ZsX7S4MaIQIVbxyXjs\") as m :\n",
    "    struct = m.get_structure_by_material_id(\"mp-567456\") #récuperation de la structure\n",
    "    newCifFile = CifWriter(struct) #création du fichier cif et écriture dans le fichier\n",
    "    newCifFile.write_file('structure_mp567456.cif')\n",
    "    \n",
    "print('Voici la maille conventionelle du matériau CaGe2 faisant apparaitre toutes les symétries. Les atomes de calcium sont en vert clair et ceux de germanium en vert foncé.')"
   ]
  },
  {
   "cell_type": "markdown",
   "metadata": {},
   "source": [
    "<p><img src=mailleElementaire.PNG>"
   ]
  },
  {
   "cell_type": "code",
   "execution_count": 17,
   "metadata": {},
   "outputs": [
    {
     "name": "stdout",
     "output_type": "stream",
     "text": [
      "Translation\n",
      "Application de l opération de translation (x-1/3,y+1/3,z+1/3)\n",
      "La matrice associée à l opération est :\n",
      "[[1. 0. 0.]\n",
      " [0. 1. 0.]\n",
      " [0. 0. 1.]]\n",
      "L application à un atome de coordonnées (x,y,z) donne le système\n"
     ]
    }
   ],
   "source": [
    "trans = SymmOp.from_xyz_string('x-1/3, y+1/3, z+1/3') #\n",
    "print('Translation')\n",
    "print('Application de l opération de translation (x-1/3,y+1/3,z+1/3)')\n",
    "print('La matrice associée à l opération est :')\n",
    "print(trans.rotation_matrix)\n",
    "print('L application à un atome de coordonnées (x,y,z) donne le système')"
   ]
  },
  {
   "cell_type": "markdown",
   "metadata": {},
   "source": [
    "<p><img src=systemeTranslation.PNG>"
   ]
  },
  {
   "cell_type": "code",
   "execution_count": 18,
   "metadata": {},
   "outputs": [
    {
     "name": "stdout",
     "output_type": "stream",
     "text": [
      "L application de cette opération de symétrie à l atome de Ca situé en (0,0,0) fournit ce même atome de Ca situé en\n",
      "[-0.33333333  0.33333333  0.33333333]\n",
      "Voici la représentation de l application où la flèche jaune correspond au vecteur de translation.\n"
     ]
    }
   ],
   "source": [
    "print('L application de cette opération de symétrie à l atome de Ca situé en (0,0,0) fournit ce même atome de Ca situé en')\n",
    "print(trans.operate((0.00,0.00,0.00)))\n",
    "print('Voici la représentation de l application où la flèche jaune correspond au vecteur de translation.')"
   ]
  },
  {
   "cell_type": "markdown",
   "metadata": {},
   "source": [
    "<p><img src=translation.PNG>"
   ]
  },
  {
   "cell_type": "code",
   "execution_count": 19,
   "metadata": {},
   "outputs": [
    {
     "name": "stdout",
     "output_type": "stream",
     "text": [
      "Réflexion par rapport à un plan miroir\n",
      "Application de l opération de réflexion par rapport à un plan miroir (-y,-x,z)\n",
      "La matrice associée à l opération est :\n",
      "[[ 0. -1.  0.]\n",
      " [-1.  0.  0.]\n",
      " [ 0.  0.  1.]]\n",
      "L application à un atome de coordonnées (x,y,z) donne le système\n"
     ]
    }
   ],
   "source": [
    "planMir = SymmOp.from_xyz_string('-y,-x,z')\n",
    "print('Réflexion par rapport à un plan miroir')\n",
    "print('Application de l opération de réflexion par rapport à un plan miroir (-y,-x,z)')\n",
    "print('La matrice associée à l opération est :')\n",
    "print(planMir.rotation_matrix)\n",
    "print('L application à un atome de coordonnées (x,y,z) donne le système')"
   ]
  },
  {
   "cell_type": "markdown",
   "metadata": {},
   "source": [
    "<p><img src=systemePlanMiroir.PNG>"
   ]
  },
  {
   "cell_type": "code",
   "execution_count": 20,
   "metadata": {},
   "outputs": [
    {
     "name": "stdout",
     "output_type": "stream",
     "text": [
      "L application de cette opération de symétrie à l atome de Ge situé en (0.67,0.33,0.54) fournit ce même atome de Ca situé en\n",
      "[-0.33 -0.67  0.54]\n",
      "Voici la représentation de l application où la flèche bleue correspond au déplacement de l atome.\n"
     ]
    }
   ],
   "source": [
    "print('L application de cette opération de symétrie à l atome de Ge situé en (0.67,0.33,0.54) fournit ce même atome de Ca situé en')\n",
    "print(planMir.operate((0.67,0.33,0.54)))\n",
    "print('Voici la représentation de l application où la flèche bleue correspond au déplacement de l atome.')"
   ]
  },
  {
   "cell_type": "markdown",
   "metadata": {},
   "source": [
    "<p><img src=planMiroir.PNG>"
   ]
  },
  {
   "cell_type": "code",
   "execution_count": 21,
   "metadata": {},
   "outputs": [
    {
     "name": "stdout",
     "output_type": "stream",
     "text": [
      "Rotation d ordre 3 dans la direct [001]\n",
      "Application de l opération de réflexion par rapport à un plan miroir (-y,-x,z)\n",
      "La matrice associée à l opération est :\n",
      "[[ 0. -1.  0.]\n",
      " [ 1. -1.  0.]\n",
      " [ 0.  0.  1.]]\n",
      "L application à un atome de coordonnées (x,y,z) donne le système\n"
     ]
    }
   ],
   "source": [
    "rot = SymmOp.from_xyz_string('-y,x-y,z')\n",
    "print('Rotation d ordre 3 dans la direct [001]')\n",
    "print('Application de l opération de réflexion par rapport à un plan miroir (-y,-x,z)')\n",
    "print('La matrice associée à l opération est :')\n",
    "print(rot.rotation_matrix)\n",
    "print('L application à un atome de coordonnées (x,y,z) donne le système')"
   ]
  },
  {
   "cell_type": "markdown",
   "metadata": {},
   "source": [
    "<p><img src=systemeRotationOrdre3.PNG>"
   ]
  },
  {
   "cell_type": "code",
   "execution_count": 22,
   "metadata": {},
   "outputs": [
    {
     "name": "stdout",
     "output_type": "stream",
     "text": [
      "L application de cette opération de symétrie à l atome de Ca situé en (0.67,0.33,0.33) fournit ce même atome de Ca situé en\n",
      "[-0.33  0.34  0.33]\n",
      "Voici la représentation de l application où la flèche bleue correspond à l axe de rotation\n"
     ]
    }
   ],
   "source": [
    "print('L application de cette opération de symétrie à l atome de Ca situé en (0.67,0.33,0.33) fournit ce même atome de Ca situé en')\n",
    "print(rot.operate((0.67,0.33,0.33)))\n",
    "print('Voici la représentation de l application où la flèche bleue correspond à l axe de rotation')"
   ]
  },
  {
   "cell_type": "markdown",
   "metadata": {},
   "source": [
    "<p><img src=rotationOrdre3.PNG>"
   ]
  },
  {
   "cell_type": "code",
   "execution_count": null,
   "metadata": {},
   "outputs": [],
   "source": []
  },
  {
   "cell_type": "code",
   "execution_count": null,
   "metadata": {},
   "outputs": [],
   "source": []
  }
 ],
 "metadata": {
  "kernelspec": {
   "display_name": "Python 3",
   "language": "python",
   "name": "python3"
  },
  "language_info": {
   "codemirror_mode": {
    "name": "ipython",
    "version": 3
   },
   "file_extension": ".py",
   "mimetype": "text/x-python",
   "name": "python",
   "nbconvert_exporter": "python",
   "pygments_lexer": "ipython3",
   "version": "3.6.8"
  }
 },
 "nbformat": 4,
 "nbformat_minor": 2
}
